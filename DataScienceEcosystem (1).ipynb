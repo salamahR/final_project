{
  "metadata": {
    "kernelspec": {
      "name": "python",
      "display_name": "Python (Pyodide)",
      "language": "python"
    },
    "language_info": {
      "codemirror_mode": {
        "name": "python",
        "version": 3
      },
      "file_extension": ".py",
      "mimetype": "text/x-python",
      "name": "python",
      "nbconvert_exporter": "python",
      "pygments_lexer": "ipython3",
      "version": "3.8"
    }
  },
  "nbformat_minor": 5,
  "nbformat": 4,
  "cells": [
    {
      "id": "880d7ced-30b6-4932-b4ca-350c70257bbc",
      "cell_type": "markdown",
      "source": "# Data Science Tools and Ecosystem",
      "metadata": {}
    },
    {
      "id": "408b3614-2368-4b03-bc25-6bbb234ea5c9",
      "cell_type": "markdown",
      "source": "In this notebook, Data Science Tools and Ecosystem are summarized.",
      "metadata": {}
    },
    {
      "id": "dc8b090a-732d-4580-b47f-839bf768e756",
      "cell_type": "markdown",
      "source": "**Objectives:**\n- List popular languages for Data Science\n- List libraries for Data Science\n- List Data Science Tools\n",
      "metadata": {}
    },
    {
      "id": "afd9cecd-9907-49bd-ba90-320cc1543877",
      "cell_type": "markdown",
      "source": "Some of the popular languages that Data Scientists use are:\n1. Python\n2. R\n3. SQL",
      "metadata": {}
    },
    {
      "id": "f79afaf0-0dfe-496c-8545-8cc5cee87d7d",
      "cell_type": "markdown",
      "source": "Some of the commonly used libraries used by Data Scientists include:\n1. PyTorch\n2. Numpy\n3. Pandas",
      "metadata": {}
    },
    {
      "id": "ec59010e-c182-4f93-8238-05369d7e3c38",
      "cell_type": "markdown",
      "source": "|Data Science Tools|\n|--------------------|\n|Jupyter Notebook|\n|RStudio|\n|Anaconda|",
      "metadata": {}
    },
    {
      "id": "00144ef2-bad0-4b74-a18d-226de256b280",
      "cell_type": "markdown",
      "source": "### Below are a few examples of evaluating arithmetic expressions in Python",
      "metadata": {}
    },
    {
      "id": "da545b77-ecd1-4d29-a450-8911f01feb2d",
      "cell_type": "code",
      "source": "#This a simple arithmetic expression to mutiply then add integers\n(3*4)+5",
      "metadata": {
        "trusted": true
      },
      "outputs": [
        {
          "execution_count": 3,
          "output_type": "execute_result",
          "data": {
            "text/plain": "17"
          },
          "metadata": {}
        }
      ],
      "execution_count": 3
    },
    {
      "id": "e3d0459c-79df-4659-962e-1e6aa42873c5",
      "cell_type": "code",
      "source": "#This will convert 200 minutes to hours by diving by 60\n200/60",
      "metadata": {
        "trusted": true
      },
      "outputs": [
        {
          "execution_count": 4,
          "output_type": "execute_result",
          "data": {
            "text/plain": "3.3333333333333335"
          },
          "metadata": {}
        }
      ],
      "execution_count": 4
    },
    {
      "id": "1472b148-bac8-4e8b-a2c1-231eb2695f3f",
      "cell_type": "markdown",
      "source": "## Author\nSalamah",
      "metadata": {}
    }
  ]
}